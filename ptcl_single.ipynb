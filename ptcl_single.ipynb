{
 "cells": [
  {
   "cell_type": "code",
   "execution_count": 27,
   "metadata": {},
   "outputs": [],
   "source": [
    "import numpy as np\n",
    "import cv2\n",
    "from matplotlib import pyplot as plt\n",
    "import time\n",
    "import os\n",
    "\n",
    "from dgl.geometry import farthest_point_sampler\n",
    "import open3d as o3d\n",
    "\n",
    "from utils import fps, depth2fgpcd, pcd2pix, fps_np, downsample_pcd"
   ]
  },
  {
   "cell_type": "code",
   "execution_count": 28,
   "metadata": {},
   "outputs": [
    {
     "data": {
      "text/plain": [
       "'test_carrots/cam_view_4'"
      ]
     },
     "execution_count": 28,
     "metadata": {},
     "output_type": "execute_result"
    }
   ],
   "source": [
    "env = 'test_carrots'\n",
    "cam_view = 'cam_view_4'\n",
    "dir_path = os.path.join(env, cam_view)\n",
    "dir_path"
   ]
  },
  {
   "cell_type": "code",
   "execution_count": 29,
   "metadata": {},
   "outputs": [
    {
     "data": {
      "text/plain": [
       "(720, 720, 5)"
      ]
     },
     "execution_count": 29,
     "metadata": {},
     "output_type": "execute_result"
    }
   ],
   "source": [
    "raw_obs = np.load(os.path.join(dir_path, 'obs.npy'))\n",
    "raw_obs.shape"
   ]
  },
  {
   "cell_type": "code",
   "execution_count": 30,
   "metadata": {},
   "outputs": [
    {
     "data": {
      "text/plain": [
       "array([869.11683083, 869.11683083, 360.        , 360.        ])"
      ]
     },
     "execution_count": 30,
     "metadata": {},
     "output_type": "execute_result"
    }
   ],
   "source": [
    "camera_intrinsic_params = np.load(os.path.join(dir_path, 'camera_intrinsic_params.npy'))\n",
    "camera_intrinsic_params"
   ]
  },
  {
   "cell_type": "code",
   "execution_count": 31,
   "metadata": {},
   "outputs": [],
   "source": [
    "global_scale = 24\n",
    "obs = raw_obs\n",
    "depth = obs[..., -1] / global_scale\n",
    "# fgpcd = depth2fgpcd(depth, depth<0.599/0.8, camera_intrinsic_params)\n",
    "# fgpcd = downsample_pcd(fgpcd, 0.01)\n"
   ]
  },
  {
   "cell_type": "code",
   "execution_count": 32,
   "metadata": {},
   "outputs": [],
   "source": [
    "fgpcd = depth2fgpcd(depth, depth<0.599/0.8, camera_intrinsic_params)"
   ]
  },
  {
   "cell_type": "code",
   "execution_count": 33,
   "metadata": {},
   "outputs": [
    {
     "name": "stdout",
     "output_type": "stream",
     "text": [
      "(720, 720)\n",
      "(71098, 3)\n"
     ]
    }
   ],
   "source": [
    "print(depth.shape)\n",
    "print(fgpcd.shape)"
   ]
  },
  {
   "cell_type": "code",
   "execution_count": 34,
   "metadata": {},
   "outputs": [
    {
     "data": {
      "text/plain": [
       "array([[False, False, False, ..., False, False, False],\n",
       "       [False, False, False, ..., False, False, False],\n",
       "       [False, False, False, ..., False, False, False],\n",
       "       ...,\n",
       "       [False, False, False, ..., False, False, False],\n",
       "       [False, False, False, ..., False, False, False],\n",
       "       [False, False, False, ..., False, False, False]])"
      ]
     },
     "execution_count": 34,
     "metadata": {},
     "output_type": "execute_result"
    }
   ],
   "source": [
    "depth<0.599/0.8"
   ]
  },
  {
   "cell_type": "code",
   "execution_count": 35,
   "metadata": {},
   "outputs": [],
   "source": [
    "pcd = o3d.geometry.PointCloud()\n",
    "pcd.points = o3d.utility.Vector3dVector(fgpcd)\n",
    "o3d.visualization.draw_geometries([pcd])"
   ]
  },
  {
   "cell_type": "code",
   "execution_count": 36,
   "metadata": {},
   "outputs": [],
   "source": [
    "vis = o3d.visualization.Visualizer()\n",
    "vis.create_window()\n",
    "vis.get_render_option().point_color_option = o3d.visualization.PointColorOption.Color\n",
    "vis.get_render_option().point_size = 3.0\n",
    "vis.add_geometry(pcd)\n",
    "vis.capture_screen_image(cam_view + \".jpg\", do_render=True)\n",
    "vis.destroy_window()"
   ]
  },
  {
   "cell_type": "code",
   "execution_count": 37,
   "metadata": {},
   "outputs": [
    {
     "data": {
      "text/plain": [
       "True"
      ]
     },
     "execution_count": 37,
     "metadata": {},
     "output_type": "execute_result"
    }
   ],
   "source": [
    "# save to image\n",
    "o3d.io.write_point_cloud(os.path.join(dir_path, 'fgpcd.pcd'), pcd)"
   ]
  },
  {
   "cell_type": "code",
   "execution_count": 38,
   "metadata": {},
   "outputs": [],
   "source": [
    "# point cloud video\n",
    "# vis = o3d.visualization.Visualizer()\n",
    "# vis.create_window()\n",
    "\n",
    "# # geometry is the point cloud used in your animaiton\n",
    "# geometry = o3d.geometry.PointCloud()\n",
    "# vis.add_geometry(geometry)\n",
    "\n",
    "# global_scale = 24\n",
    "# particle_num = 50 # obtained from resolution regressor \n",
    "# save_images = True\n",
    "\n",
    "# for i in range(len(raw_obs)):\n",
    "#     obs = raw_obs[i]\n",
    "#     depth = obs[..., -1] / global_scale\n",
    "    \n",
    "#     fgpcd = depth2fgpcd(depth, depth<0.599/0.8, camera_params)\n",
    "#     fgpcd = downsample_pcd(fgpcd, 0.01)\n",
    "#     sampled_ptcl, particle_r = fps(fgpcd, particle_num) \n",
    "#     fgpcd = sampled_ptcl\n",
    "    \n",
    "#     geometry.points = o3d.utility.Vector3dVector(fgpcd)\n",
    "#     vis.add_geometry(geometry)\n",
    "#     vis.poll_events()\n",
    "#     vis.update_renderer()\n",
    "    \n",
    "#     if save_images:\n",
    "#         vis.capture_screen_image(\"imgs/{:04d}.jpg\".format(i))\n",
    "    \n",
    "#     time.sleep(0.3)\n",
    "\n",
    "# vis.destroy_window()"
   ]
  },
  {
   "cell_type": "code",
   "execution_count": 39,
   "metadata": {},
   "outputs": [],
   "source": [
    "# # imgs to video\n",
    "# import glob \n",
    "# import os\n",
    "\n",
    "# img_array = []\n",
    "# for filename in sorted(glob.glob(f'./imgs/*.jpg'), key=os.path.getmtime):\n",
    "#     img = cv2.imread(filename)\n",
    "#     height, width, layers = img.shape\n",
    "#     size = (width,height)\n",
    "#     img_array.append(img)\n",
    "\n",
    "# out = cv2.VideoWriter(f'ptcl_sampled.mp4',cv2.VideoWriter_fourcc(*'mp4v'), 5, size)\n",
    "\n",
    "# for i in range(len(img_array)):\n",
    "#     out.write(img_array[i])\n",
    "# out.release()\n"
   ]
  }
 ],
 "metadata": {
  "kernelspec": {
   "display_name": "dyn-res-pile-manip",
   "language": "python",
   "name": "python3"
  },
  "language_info": {
   "codemirror_mode": {
    "name": "ipython",
    "version": 3
   },
   "file_extension": ".py",
   "mimetype": "text/x-python",
   "name": "python",
   "nbconvert_exporter": "python",
   "pygments_lexer": "ipython3",
   "version": "3.9.17"
  },
  "orig_nbformat": 4
 },
 "nbformat": 4,
 "nbformat_minor": 2
}
