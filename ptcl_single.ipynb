{
 "cells": [
  {
   "cell_type": "code",
   "execution_count": 41,
   "metadata": {},
   "outputs": [],
   "source": [
    "import numpy as np\n",
    "import cv2\n",
    "from matplotlib import pyplot as plt\n",
    "import time\n",
    "import os\n",
    "\n",
    "from dgl.geometry import farthest_point_sampler\n",
    "import open3d as o3d\n",
    "\n",
    "from utils import depth2fgpcd, depth2fgpcd_top"
   ]
  },
  {
   "cell_type": "code",
   "execution_count": 42,
   "metadata": {},
   "outputs": [
    {
     "data": {
      "text/plain": [
       "'ptcl_data/shirt/view_4'"
      ]
     },
     "execution_count": 42,
     "metadata": {},
     "output_type": "execute_result"
    }
   ],
   "source": [
    "env = 'shirt'\n",
    "view = 4\n",
    "dir_path = f'ptcl_data/{env}/view_{str(view)}'\n",
    "dir_path"
   ]
  },
  {
   "cell_type": "code",
   "execution_count": 43,
   "metadata": {},
   "outputs": [
    {
     "data": {
      "text/plain": [
       "(720, 720, 5)"
      ]
     },
     "execution_count": 43,
     "metadata": {},
     "output_type": "execute_result"
    }
   ],
   "source": [
    "raw_obs = np.load(os.path.join(dir_path, 'obs.npy'))\n",
    "raw_obs.shape"
   ]
  },
  {
   "cell_type": "code",
   "execution_count": 44,
   "metadata": {},
   "outputs": [
    {
     "data": {
      "text/plain": [
       "array([869.11683083, 869.11683083, 360.        , 360.        ])"
      ]
     },
     "execution_count": 44,
     "metadata": {},
     "output_type": "execute_result"
    }
   ],
   "source": [
    "camera_intrinsic_params = np.load(os.path.join(dir_path, 'camera_intrinsic_params.npy'))\n",
    "camera_intrinsic_params"
   ]
  },
  {
   "cell_type": "code",
   "execution_count": 45,
   "metadata": {},
   "outputs": [
    {
     "data": {
      "text/plain": [
       "array([[ 0.7071068 ,  0.        ,  0.7071068 ,  0.        ],\n",
       "       [ 0.66446304,  0.34202015, -0.66446304, -0.04894316],\n",
       "       [-0.24184477,  0.9396926 ,  0.24184477, -5.3030753 ],\n",
       "       [ 0.        ,  0.        ,  0.        ,  1.        ]],\n",
       "      dtype=float32)"
      ]
     },
     "execution_count": 45,
     "metadata": {},
     "output_type": "execute_result"
    }
   ],
   "source": [
    "camera_ext_matrix = np.load(os.path.join(dir_path, 'camera_extrinsic_matrix.npy'))\n",
    "camera_ext_matrix"
   ]
  },
  {
   "cell_type": "code",
   "execution_count": 46,
   "metadata": {},
   "outputs": [],
   "source": [
    "global_scale = 1\n",
    "obs = raw_obs\n",
    "depth = obs[..., -1] / global_scale\n",
    "color = obs[..., :3][..., ::-1] / global_scale"
   ]
  },
  {
   "cell_type": "code",
   "execution_count": 47,
   "metadata": {},
   "outputs": [
    {
     "name": "stdout",
     "output_type": "stream",
     "text": [
      "(720, 720)\n",
      "(720, 720, 3)\n",
      "(46414, 3)\n"
     ]
    }
   ],
   "source": [
    "fgpcd = depth2fgpcd(depth, camera_intrinsic_params, camera_ext_matrix)\n",
    "# fgpcd = downsample_pcd(fgpcd, 0.01)\n",
    "# fgpcd = depth2fgpcd_top(depth, depth<0.599/0.8, camera_intrinsic_params)\n",
    "print(depth.shape)\n",
    "print(color.shape)\n",
    "print(fgpcd.shape)"
   ]
  },
  {
   "cell_type": "code",
   "execution_count": 48,
   "metadata": {},
   "outputs": [],
   "source": [
    "pcd = o3d.geometry.PointCloud()\n",
    "\n",
    "fgpcd = fgpcd[..., [0, 2, 1]]\n",
    "fgpcd[..., 2] = -fgpcd[..., 2]\n",
    "\n",
    "pcd.points = o3d.utility.Vector3dVector(fgpcd)\n",
    "o3d.visualization.draw_geometries([pcd])"
   ]
  },
  {
   "cell_type": "code",
   "execution_count": 49,
   "metadata": {},
   "outputs": [
    {
     "data": {
      "text/plain": [
       "True"
      ]
     },
     "execution_count": 49,
     "metadata": {},
     "output_type": "execute_result"
    }
   ],
   "source": [
    "# save to pcd file\n",
    "o3d.io.write_point_cloud(os.path.join(dir_path, 'fgpcd.pcd'), pcd)"
   ]
  },
  {
   "cell_type": "code",
   "execution_count": 50,
   "metadata": {},
   "outputs": [],
   "source": [
    "# save pcd picture \n",
    "# vis = o3d.visualization.Visualizer()\n",
    "# vis.create_window()\n",
    "# vis.get_render_option().point_color_option = o3d.visualization.PointColorOption.Color\n",
    "# vis.get_render_option().point_size = 3.0\n",
    "# vis.add_geometry(pcd)\n",
    "# vis.capture_screen_image(str(view) + \".jpg\", do_render=True)\n",
    "# vis.destroy_window()"
   ]
  }
 ],
 "metadata": {
  "kernelspec": {
   "display_name": "dyn-res-pile-manip",
   "language": "python",
   "name": "python3"
  },
  "language_info": {
   "codemirror_mode": {
    "name": "ipython",
    "version": 3
   },
   "file_extension": ".py",
   "mimetype": "text/x-python",
   "name": "python",
   "nbconvert_exporter": "python",
   "pygments_lexer": "ipython3",
   "version": "3.9.17"
  },
  "orig_nbformat": 4
 },
 "nbformat": 4,
 "nbformat_minor": 2
}
