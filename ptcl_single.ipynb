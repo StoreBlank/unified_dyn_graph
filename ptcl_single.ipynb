{
 "cells": [
  {
   "cell_type": "code",
   "execution_count": 24,
   "metadata": {},
   "outputs": [],
   "source": [
    "import numpy as np\n",
    "import cv2\n",
    "from matplotlib import pyplot as plt\n",
    "import time\n",
    "import os\n",
    "\n",
    "from dgl.geometry import farthest_point_sampler\n",
    "import open3d as o3d\n",
    "\n",
    "from utils import depth2fgpcd, depth2fgpcd_top, opengl2cam"
   ]
  },
  {
   "cell_type": "code",
   "execution_count": 25,
   "metadata": {},
   "outputs": [
    {
     "data": {
      "text/plain": [
       "'ptcl_data/carrots/view_1'"
      ]
     },
     "execution_count": 25,
     "metadata": {},
     "output_type": "execute_result"
    }
   ],
   "source": [
    "env = 'carrots'\n",
    "view = 1\n",
    "dir_path = f'ptcl_data/{env}/view_{str(view)}'\n",
    "dir_path"
   ]
  },
  {
   "cell_type": "code",
   "execution_count": 26,
   "metadata": {},
   "outputs": [
    {
     "data": {
      "text/plain": [
       "(720, 720, 5)"
      ]
     },
     "execution_count": 26,
     "metadata": {},
     "output_type": "execute_result"
    }
   ],
   "source": [
    "raw_obs = np.load(os.path.join(dir_path, 'obs.npy'))\n",
    "raw_obs.shape"
   ]
  },
  {
   "cell_type": "code",
   "execution_count": 27,
   "metadata": {},
   "outputs": [
    {
     "data": {
      "text/plain": [
       "array([869.11683083, 869.11683083, 360.        , 360.        ])"
      ]
     },
     "execution_count": 27,
     "metadata": {},
     "output_type": "execute_result"
    }
   ],
   "source": [
    "camera_intrinsic_params = np.load(os.path.join(dir_path, 'camera_intrinsic_params.npy'))\n",
    "camera_intrinsic_params"
   ]
  },
  {
   "cell_type": "code",
   "execution_count": 28,
   "metadata": {},
   "outputs": [
    {
     "data": {
      "text/plain": [
       "array([[-4.3711388e-08,  0.0000000e+00,  1.0000000e+00,  5.5635513e-07],\n",
       "       [-7.0710677e-01,  7.0710677e-01, -3.0908620e-08,  0.0000000e+00],\n",
       "       [-7.0710677e-01, -7.0710677e-01, -3.0908620e-08,  1.8000000e+01],\n",
       "       [ 0.0000000e+00,  0.0000000e+00,  0.0000000e+00,  1.0000000e+00]],\n",
       "      dtype=float32)"
      ]
     },
     "execution_count": 28,
     "metadata": {},
     "output_type": "execute_result"
    }
   ],
   "source": [
    "camera_ext_matrix = np.load(os.path.join(dir_path, 'camera_extrinsic_matrix.npy'))\n",
    "camera_ext_matrix"
   ]
  },
  {
   "cell_type": "code",
   "execution_count": 29,
   "metadata": {},
   "outputs": [],
   "source": [
    "global_scale = 1\n",
    "obs = raw_obs\n",
    "depth = obs[..., -1] / global_scale\n",
    "color = obs[..., :3][..., ::-1] / global_scale"
   ]
  },
  {
   "cell_type": "code",
   "execution_count": 30,
   "metadata": {},
   "outputs": [],
   "source": [
    "def depth2fgpcd_new(depth, intr, extr):\n",
    "    h, w = depth.shape\n",
    "    fx, fy, cx, cy = intr\n",
    "    rot = extr[:3, :3]\n",
    "    trans = extr[:3, 3]\n",
    "    \n",
    "    # get inverse transformation\n",
    "    inv_rot = np.linalg.inv(rot)\n",
    "    inv_extr = np.eye(4)\n",
    "    inv_extr[:3, :3] = inv_rot\n",
    "    inv_extr[:3, 3] = - inv_rot @ trans\n",
    "    \n",
    "    pos_x, pos_y = np.meshgrid(np.arange(w), np.arange(h))\n",
    "    fgpcd = np.zeros((depth.shape[0], depth.shape[1], 3))\n",
    "    fgpcd[:, :, 0] = (pos_x - cx) * depth / fx\n",
    "    fgpcd[:, :, 1] = (pos_y - cy) * depth / fy\n",
    "    fgpcd[:, :, 2] = depth\n",
    "    \n",
    "    fgpcd_world = np.matmul(inv_extr, np.concatenate([fgpcd.reshape(-1, 3), np.ones((fgpcd.reshape(-1, 3).shape[0], 1))], axis=1).T).T[:, :3]\n",
    "    # print('inv_extr\\n', inv_extr)\n",
    "    # print('matrix\\n', np.concatenate([fgpcd.reshape(-1, 3), np.ones((fgpcd.reshape(-1, 3).shape[0], 1))], axis=1))\n",
    "    # mask = fgpcd_world[..., 1] < (fgpcd_world[..., 1].max() - 0.001)\n",
    "    mask = fgpcd_world[..., 1] < (fgpcd_world[..., 1].max() - 0.01)\n",
    "    # mask = fgpcd_world[..., 1] > (fgpcd_world[..., 1].min() + 0.01)\n",
    "    \n",
    "    fgpcd_world = fgpcd_world[mask]\n",
    "    return inv_extr, fgpcd_world"
   ]
  },
  {
   "cell_type": "code",
   "execution_count": 31,
   "metadata": {},
   "outputs": [
    {
     "name": "stdout",
     "output_type": "stream",
     "text": [
      "[[-4.37113883e-08 -7.07106769e-01 -7.07106769e-01  1.27279215e+01]\n",
      " [-0.00000000e+00  7.07106769e-01 -7.07106769e-01  1.27279215e+01]\n",
      " [ 1.00000000e+00 -3.09086197e-08 -3.09086197e-08  0.00000000e+00]\n",
      " [ 0.00000000e+00  0.00000000e+00  0.00000000e+00  1.00000000e+00]]\n",
      "(720, 720)\n",
      "(720, 720, 3)\n",
      "(517680, 3)\n"
     ]
    }
   ],
   "source": [
    "inv_extr, fgpcd = depth2fgpcd_new(depth, camera_intrinsic_params, camera_ext_matrix)\n",
    "print(inv_extr)\n",
    "# fgpcd = downsample_pcd(fgpcd, 0.01)\n",
    "# fgpcd = depth2fgpcd_top(depth, depth<0.599/0.8, camera_intrinsic_params)\n",
    "print(depth.shape)\n",
    "print(color.shape)\n",
    "print(fgpcd.shape)"
   ]
  },
  {
   "cell_type": "code",
   "execution_count": 32,
   "metadata": {},
   "outputs": [],
   "source": [
    "pcd = o3d.geometry.PointCloud()\n",
    "\n",
    "# fgpcd = fgpcd[..., [0, 2, 1]]\n",
    "# fgpcd[..., 1] = -fgpcd[..., 1]\n",
    "# fgpcd[..., 2] = -fgpcd[..., 2]\n",
    "\n",
    "pcd.points = o3d.utility.Vector3dVector(fgpcd)\n",
    "o3d.visualization.draw_geometries([pcd])"
   ]
  },
  {
   "cell_type": "code",
   "execution_count": 33,
   "metadata": {},
   "outputs": [
    {
     "data": {
      "text/plain": [
       "True"
      ]
     },
     "execution_count": 33,
     "metadata": {},
     "output_type": "execute_result"
    }
   ],
   "source": [
    "# save to pcd file\n",
    "o3d.io.write_point_cloud(os.path.join(dir_path, 'fgpcd.pcd'), pcd)"
   ]
  },
  {
   "cell_type": "code",
   "execution_count": 34,
   "metadata": {},
   "outputs": [],
   "source": [
    "# save pcd picture \n",
    "# vis = o3d.visualization.Visualizer()\n",
    "# vis.create_window()\n",
    "# vis.get_render_option().point_color_option = o3d.visualization.PointColorOption.Color\n",
    "# vis.get_render_option().point_size = 3.0\n",
    "# vis.add_geometry(pcd)\n",
    "# vis.capture_screen_image(str(view) + \".jpg\", do_render=True)\n",
    "# vis.destroy_window()"
   ]
  }
 ],
 "metadata": {
  "kernelspec": {
   "display_name": "dyn-res-pile-manip",
   "language": "python",
   "name": "python3"
  },
  "language_info": {
   "codemirror_mode": {
    "name": "ipython",
    "version": 3
   },
   "file_extension": ".py",
   "mimetype": "text/x-python",
   "name": "python",
   "nbconvert_exporter": "python",
   "pygments_lexer": "ipython3",
   "version": "3.9.17"
  },
  "orig_nbformat": 4
 },
 "nbformat": 4,
 "nbformat_minor": 2
}
