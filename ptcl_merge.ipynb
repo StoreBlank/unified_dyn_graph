{
 "cells": [
  {
   "cell_type": "code",
   "execution_count": 6,
   "metadata": {},
   "outputs": [],
   "source": [
    "import numpy as np\n",
    "import cv2\n",
    "from matplotlib import pyplot as plt\n",
    "import time\n",
    "import os\n",
    "import copy\n",
    "\n",
    "from dgl.geometry import farthest_point_sampler\n",
    "import open3d as o3d\n",
    "\n",
    "from utils import fps, depth2fgpcd, pcd2pix, fps_np, downsample_pcd"
   ]
  },
  {
   "cell_type": "code",
   "execution_count": 7,
   "metadata": {},
   "outputs": [],
   "source": [
    "env = 'mustard_bottle'\n",
    "folder_path = f'ptcl_data/{env}'"
   ]
  },
  {
   "cell_type": "code",
   "execution_count": 8,
   "metadata": {},
   "outputs": [
    {
     "name": "stdout",
     "output_type": "stream",
     "text": [
      "i: 1\n",
      "camera_intrinsic_params\n",
      " [869.11683083 869.11683083 360.         360.        ]\n",
      "camera_extrinsic_matrix\n",
      " [[-4.3711388e-08  0.0000000e+00 -1.0000000e+00  1.0000001e+00]\n",
      " [-7.0710677e-01  7.0710677e-01  3.0908620e-08 -3.5355332e-01]\n",
      " [ 7.0710677e-01  7.0710677e-01 -3.0908620e-08 -2.6464465e+00]\n",
      " [ 0.0000000e+00  0.0000000e+00  0.0000000e+00  1.0000000e+00]]\n",
      "(34491, 3) [-0.53838174  0.28166347  0.95199813]\n",
      "i: 2\n",
      "camera_intrinsic_params\n",
      " [869.11683083 869.11683083 360.         360.        ]\n",
      "camera_extrinsic_matrix\n",
      " [[ 1.          0.          0.          0.5       ]\n",
      " [ 0.          0.70710677 -0.70710677  0.7071067 ]\n",
      " [ 0.          0.70710677  0.70710677 -3.7071066 ]\n",
      " [ 0.          0.          0.          1.        ]]\n",
      "(32149, 3) [-0.64263643  0.29875469  1.07166872]\n",
      "i: 3\n",
      "camera_intrinsic_params\n",
      " [869.11683083 869.11683083 360.         360.        ]\n",
      "camera_extrinsic_matrix\n",
      " [[ 1.1924881e-08  0.0000000e+00  1.0000000e+00 -9.9999994e-01]\n",
      " [ 7.0710677e-01  7.0710677e-01 -8.4321634e-09  3.5355341e-01]\n",
      " [-7.0710677e-01  7.0710677e-01  8.4321634e-09 -3.3535533e+00]\n",
      " [ 0.0000000e+00  0.0000000e+00  0.0000000e+00  1.0000000e+00]]\n",
      "(38588, 3) [-0.76204476  0.29280418  0.94766615]\n",
      "i: 4\n",
      "camera_intrinsic_params\n",
      " [869.11683083 869.11683083 360.         360.        ]\n",
      "camera_extrinsic_matrix\n",
      " [[-1.0000000e+00  0.0000000e+00  8.7422777e-08 -4.9999991e-01]\n",
      " [ 6.1817239e-08  7.0710677e-01  7.0710677e-01 -7.0710665e-01]\n",
      " [-6.1817239e-08  7.0710677e-01 -7.0710677e-01 -2.2928932e+00]\n",
      " [ 0.0000000e+00  0.0000000e+00  0.0000000e+00  1.0000000e+00]]\n",
      "(34738, 3) [-0.64010841  0.29400368  0.76617737]\n"
     ]
    }
   ],
   "source": [
    "pcd_all_list = []\n",
    "extrinsic_matrixs = []\n",
    "global_scale = 24\n",
    "\n",
    "for i in range(1, 5):\n",
    "    # load data\n",
    "    cam_view = 'view_{}'.format(i)\n",
    "    dir_path = os.path.join(folder_path, cam_view)\n",
    "    \n",
    "    # obs = np.load(os.path.join(dir_path, 'obs.npy'))\n",
    "    camera_intrinsic_params = np.load(os.path.join(dir_path, 'camera_intrinsic_params.npy')) # [fx, fy, cx, cy]\n",
    "    camera_extrinsic_matrix = np.load(os.path.join(dir_path, 'camera_extrinsic_matrix.npy'))\n",
    "    print('i:', i)\n",
    "    print('camera_intrinsic_params\\n', camera_intrinsic_params)\n",
    "    print('camera_extrinsic_matrix\\n', camera_extrinsic_matrix)\n",
    "    extrinsic_matrixs.append(camera_extrinsic_matrix)\n",
    "    \n",
    "    pcd = o3d.io.read_point_cloud(os.path.join(dir_path, 'fgpcd.pcd'))\n",
    "    pcd_array = np.asarray(pcd.points)\n",
    "    print(pcd_array.shape, pcd_array.mean(axis=0))\n",
    "    \n",
    "    pcd_all_list.append(pcd)\n",
    "    "
   ]
  },
  {
   "cell_type": "code",
   "execution_count": 9,
   "metadata": {},
   "outputs": [],
   "source": [
    "o3d.visualization.draw_geometries(pcd_all_list)"
   ]
  },
  {
   "cell_type": "code",
   "execution_count": 10,
   "metadata": {},
   "outputs": [
    {
     "data": {
      "text/plain": [
       "True"
      ]
     },
     "execution_count": 10,
     "metadata": {},
     "output_type": "execute_result"
    }
   ],
   "source": [
    "# save to pcd file\n",
    "o3d.io.write_point_cloud(os.path.join(folder_path, 'merged.pcd'), pcd)"
   ]
  }
 ],
 "metadata": {
  "kernelspec": {
   "display_name": "dyn-res-pile-manip",
   "language": "python",
   "name": "python3"
  },
  "language_info": {
   "codemirror_mode": {
    "name": "ipython",
    "version": 3
   },
   "file_extension": ".py",
   "mimetype": "text/x-python",
   "name": "python",
   "nbconvert_exporter": "python",
   "pygments_lexer": "ipython3",
   "version": "3.9.17"
  },
  "orig_nbformat": 4
 },
 "nbformat": 4,
 "nbformat_minor": 2
}
