{
 "cells": [
  {
   "cell_type": "code",
   "execution_count": 1,
   "metadata": {},
   "outputs": [
    {
     "name": "stdout",
     "output_type": "stream",
     "text": [
      "Jupyter environment detected. Enabling Open3D WebVisualizer.\n",
      "[Open3D INFO] WebRTC GUI backend enabled.\n",
      "[Open3D INFO] WebRTCWindowSystem: HTTP handshake server disabled.\n"
     ]
    }
   ],
   "source": [
    "import numpy as np\n",
    "import cv2\n",
    "from matplotlib import pyplot as plt\n",
    "import time\n",
    "import os\n",
    "import copy\n",
    "\n",
    "from dgl.geometry import farthest_point_sampler\n",
    "import open3d as o3d\n",
    "\n",
    "from utils import fps, depth2fgpcd, pcd2pix, fps_np, downsample_pcd"
   ]
  },
  {
   "cell_type": "code",
   "execution_count": 2,
   "metadata": {},
   "outputs": [],
   "source": [
    "env = 'carrots'\n",
    "folder_path = f'ptcl_data/{env}'"
   ]
  },
  {
   "cell_type": "code",
   "execution_count": 3,
   "metadata": {},
   "outputs": [
    {
     "name": "stdout",
     "output_type": "stream",
     "text": [
      "i: 1\n",
      "camera_intrinsic_params\n",
      " [869.11683083 869.11683083 360.         360.        ]\n",
      "camera_extrinsic_matrix\n",
      " [[-4.3711388e-08  0.0000000e+00 -1.0000000e+00  5.5635513e-07]\n",
      " [-7.0710677e-01  7.0710677e-01  3.0908620e-08  0.0000000e+00]\n",
      " [ 7.0710677e-01  7.0710677e-01 -3.0908620e-08 -1.8000000e+01]\n",
      " [ 0.0000000e+00  0.0000000e+00  0.0000000e+00  1.0000000e+00]]\n",
      "(62234, 3) [ 0.65829547 -0.17989414 -0.31783734]\n",
      "i: 2\n",
      "camera_intrinsic_params\n",
      " [869.11683083 869.11683083 360.         360.        ]\n",
      "camera_extrinsic_matrix\n",
      " [[  1.           0.           0.           0.        ]\n",
      " [  0.           0.70710677  -0.70710677   0.        ]\n",
      " [  0.           0.70710677   0.70710677 -18.        ]\n",
      " [  0.           0.           0.           1.        ]]\n",
      "(63303, 3) [ 0.13475381 -0.65769083 -0.31497552]\n",
      "i: 3\n",
      "camera_intrinsic_params\n",
      " [869.11683083 869.11683083 360.         360.        ]\n",
      "camera_extrinsic_matrix\n",
      " [[ 1.1924881e-08  0.0000000e+00  1.0000000e+00  1.5177896e-07]\n",
      " [ 7.0710677e-01  7.0710677e-01 -8.4321634e-09  0.0000000e+00]\n",
      " [-7.0710677e-01  7.0710677e-01  8.4321634e-09 -1.8000000e+01]\n",
      " [ 0.0000000e+00  0.0000000e+00  0.0000000e+00  1.0000000e+00]]\n",
      "(59207, 3) [-0.29416276 -0.18462972 -0.31221827]\n",
      "i: 4\n",
      "camera_intrinsic_params\n",
      " [869.11683083 869.11683083 360.         360.        ]\n",
      "camera_extrinsic_matrix\n",
      " [[-1.0000000e+00  0.0000000e+00  8.7422777e-08  1.1127103e-06]\n",
      " [ 6.1817239e-08  7.0710677e-01  7.0710677e-01  0.0000000e+00]\n",
      " [-6.1817239e-08  7.0710677e-01 -7.0710677e-01 -1.8000000e+01]\n",
      " [ 0.0000000e+00  0.0000000e+00  0.0000000e+00  1.0000000e+00]]\n",
      "(60650, 3) [ 0.18841851  0.29977899 -0.31565093]\n"
     ]
    }
   ],
   "source": [
    "pcd_all_list = []\n",
    "extrinsic_matrixs = []\n",
    "global_scale = 24\n",
    "\n",
    "for i in range(1, 5):\n",
    "    # load data\n",
    "    cam_view = 'view_{}'.format(i)\n",
    "    dir_path = os.path.join(folder_path, cam_view)\n",
    "    \n",
    "    # obs = np.load(os.path.join(dir_path, 'obs.npy'))\n",
    "    camera_intrinsic_params = np.load(os.path.join(dir_path, 'camera_intrinsic_params.npy')) # [fx, fy, cx, cy]\n",
    "    camera_extrinsic_matrix = np.load(os.path.join(dir_path, 'camera_extrinsic_matrix.npy'))\n",
    "    print('i:', i)\n",
    "    print('camera_intrinsic_params\\n', camera_intrinsic_params)\n",
    "    print('camera_extrinsic_matrix\\n', camera_extrinsic_matrix)\n",
    "    extrinsic_matrixs.append(camera_extrinsic_matrix)\n",
    "    \n",
    "    pcd = o3d.io.read_point_cloud(os.path.join(dir_path, 'fgpcd.pcd'))\n",
    "    pcd_array = np.asarray(pcd.points)\n",
    "    print(pcd_array.shape, pcd_array.mean(axis=0))\n",
    "    \n",
    "    pcd_all_list.append(pcd)\n",
    "    "
   ]
  },
  {
   "cell_type": "code",
   "execution_count": 4,
   "metadata": {},
   "outputs": [],
   "source": [
    "o3d.visualization.draw_geometries(pcd_all_list)"
   ]
  }
 ],
 "metadata": {
  "kernelspec": {
   "display_name": "dyn-res-pile-manip",
   "language": "python",
   "name": "python3"
  },
  "language_info": {
   "codemirror_mode": {
    "name": "ipython",
    "version": 3
   },
   "file_extension": ".py",
   "mimetype": "text/x-python",
   "name": "python",
   "nbconvert_exporter": "python",
   "pygments_lexer": "ipython3",
   "version": "3.9.17"
  },
  "orig_nbformat": 4
 },
 "nbformat": 4,
 "nbformat_minor": 2
}
