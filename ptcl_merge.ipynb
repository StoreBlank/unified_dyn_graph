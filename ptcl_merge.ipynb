{
 "cells": [
  {
   "cell_type": "code",
   "execution_count": 16,
   "metadata": {},
   "outputs": [],
   "source": [
    "import numpy as np\n",
    "import cv2\n",
    "from matplotlib import pyplot as plt\n",
    "import time\n",
    "import os\n",
    "import copy\n",
    "\n",
    "from dgl.geometry import farthest_point_sampler\n",
    "import open3d as o3d\n",
    "\n",
    "from utils import fps, depth2fgpcd, pcd2pix, fps_np, downsample_pcd"
   ]
  },
  {
   "cell_type": "code",
   "execution_count": 17,
   "metadata": {},
   "outputs": [],
   "source": [
    "env = 'shirt'\n",
    "folder_path = f'ptcl_data/{env}'"
   ]
  },
  {
   "cell_type": "code",
   "execution_count": 18,
   "metadata": {},
   "outputs": [
    {
     "name": "stdout",
     "output_type": "stream",
     "text": [
      "i: 1\n",
      "camera_intrinsic_params\n",
      " [869.11683083 869.11683083 360.         360.        ]\n",
      "camera_extrinsic_matrix\n",
      " [[-4.3711388e-08  0.0000000e+00 -1.0000000e+00  6.1817239e-08]\n",
      " [-7.0710677e-01  7.0710677e-01  3.0908620e-08  0.0000000e+00]\n",
      " [ 7.0710677e-01  7.0710677e-01 -3.0908620e-08 -1.9999999e+00]\n",
      " [ 0.0000000e+00  0.0000000e+00  0.0000000e+00  1.0000000e+00]]\n",
      "(36739, 3) [ 0.2084753  -0.00265502 -0.03107191]\n",
      "i: 2\n",
      "camera_intrinsic_params\n",
      " [869.11683083 869.11683083 360.         360.        ]\n",
      "camera_extrinsic_matrix\n",
      " [[ 1.          0.          0.          0.        ]\n",
      " [ 0.          0.70710677 -0.70710677  0.        ]\n",
      " [ 0.          0.70710677  0.70710677 -1.9999999 ]\n",
      " [ 0.          0.          0.          1.        ]]\n",
      "(30139, 3) [ 0.17549986 -0.03951776 -0.03094109]\n",
      "i: 3\n",
      "camera_intrinsic_params\n",
      " [869.11683083 869.11683083 360.         360.        ]\n",
      "camera_extrinsic_matrix\n",
      " [[ 1.1924881e-08  0.0000000e+00  1.0000000e+00  1.6864327e-08]\n",
      " [ 7.0710677e-01  7.0710677e-01 -8.4321634e-09  0.0000000e+00]\n",
      " [-7.0710677e-01  7.0710677e-01  8.4321634e-09 -1.9999999e+00]\n",
      " [ 0.0000000e+00  0.0000000e+00  0.0000000e+00  1.0000000e+00]]\n",
      "(25257, 3) [ 1.46092661e-01  6.00938210e-05 -3.05464501e-02]\n",
      "i: 4\n",
      "camera_intrinsic_params\n",
      " [869.11683083 869.11683083 360.         360.        ]\n",
      "camera_extrinsic_matrix\n",
      " [[-1.0000000e+00  0.0000000e+00  8.7422777e-08  1.2363448e-07]\n",
      " [ 6.1817239e-08  7.0710677e-01  7.0710677e-01  0.0000000e+00]\n",
      " [-6.1817239e-08  7.0710677e-01 -7.0710677e-01 -1.9999999e+00]\n",
      " [ 0.0000000e+00  0.0000000e+00  0.0000000e+00  1.0000000e+00]]\n",
      "(30117, 3) [ 0.17731     0.03747603 -0.03091356]\n"
     ]
    }
   ],
   "source": [
    "pcd_all_list = []\n",
    "extrinsic_matrixs = []\n",
    "global_scale = 24\n",
    "\n",
    "for i in range(1, 5):\n",
    "    # load data\n",
    "    cam_view = 'view_{}'.format(i)\n",
    "    dir_path = os.path.join(folder_path, cam_view)\n",
    "    \n",
    "    # obs = np.load(os.path.join(dir_path, 'obs.npy'))\n",
    "    camera_intrinsic_params = np.load(os.path.join(dir_path, 'camera_intrinsic_params.npy')) # [fx, fy, cx, cy]\n",
    "    camera_extrinsic_matrix = np.load(os.path.join(dir_path, 'camera_extrinsic_matrix.npy'))\n",
    "    print('i:', i)\n",
    "    print('camera_intrinsic_params\\n', camera_intrinsic_params)\n",
    "    print('camera_extrinsic_matrix\\n', camera_extrinsic_matrix)\n",
    "    extrinsic_matrixs.append(camera_extrinsic_matrix)\n",
    "    \n",
    "    pcd = o3d.io.read_point_cloud(os.path.join(dir_path, 'fgpcd.pcd'))\n",
    "    pcd_array = np.asarray(pcd.points)\n",
    "    print(pcd_array.shape, pcd_array.mean(axis=0))\n",
    "    \n",
    "    pcd_all_list.append(pcd)\n",
    "    "
   ]
  },
  {
   "cell_type": "code",
   "execution_count": 19,
   "metadata": {},
   "outputs": [],
   "source": [
    "o3d.visualization.draw_geometries(pcd_all_list)"
   ]
  },
  {
   "cell_type": "code",
   "execution_count": 20,
   "metadata": {},
   "outputs": [
    {
     "data": {
      "text/plain": [
       "True"
      ]
     },
     "execution_count": 20,
     "metadata": {},
     "output_type": "execute_result"
    }
   ],
   "source": [
    "# save to pcd file\n",
    "o3d.io.write_point_cloud(os.path.join(folder_path, 'merged.pcd'), pcd)"
   ]
  }
 ],
 "metadata": {
  "kernelspec": {
   "display_name": "dyn-res-pile-manip",
   "language": "python",
   "name": "python3"
  },
  "language_info": {
   "codemirror_mode": {
    "name": "ipython",
    "version": 3
   },
   "file_extension": ".py",
   "mimetype": "text/x-python",
   "name": "python",
   "nbconvert_exporter": "python",
   "pygments_lexer": "ipython3",
   "version": "3.9.17"
  },
  "orig_nbformat": 4
 },
 "nbformat": 4,
 "nbformat_minor": 2
}
