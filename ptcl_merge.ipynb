{
 "cells": [
  {
   "cell_type": "code",
   "execution_count": 2,
   "metadata": {},
   "outputs": [
    {
     "name": "stdout",
     "output_type": "stream",
     "text": [
      "Jupyter environment detected. Enabling Open3D WebVisualizer.\n",
      "[Open3D INFO] WebRTC GUI backend enabled.\n",
      "[Open3D INFO] WebRTCWindowSystem: HTTP handshake server disabled.\n"
     ]
    }
   ],
   "source": [
    "import numpy as np\n",
    "import cv2\n",
    "from matplotlib import pyplot as plt\n",
    "import time\n",
    "import os\n",
    "import copy\n",
    "\n",
    "from dgl.geometry import farthest_point_sampler\n",
    "import open3d as o3d\n",
    "\n",
    "from utils import fps, depth2fgpcd, pcd2pix, fps_np, downsample_pcd"
   ]
  },
  {
   "cell_type": "code",
   "execution_count": 33,
   "metadata": {},
   "outputs": [],
   "source": [
    "pcd_all_list = []\n",
    "extrinsic_matrixs = []\n",
    "global_scale = 24\n",
    "\n",
    "for i in range(5):\n",
    "    # load data\n",
    "    env = 'test_carrots'\n",
    "    cam_view = 'cam_view_{}'.format(i)\n",
    "    dir_path = os.path.join(env, cam_view)\n",
    "    \n",
    "    obs = np.load(os.path.join(dir_path, 'obs.npy'))\n",
    "    camera_intrinsic_params = np.load(os.path.join(dir_path, 'camera_intrinsic_params.npy'))\n",
    "    camera_extrinsic_matrix = np.load(os.path.join(dir_path, 'camera_extrinsic_matrix.npy'))\n",
    "    extrinsic_matrixs.append(camera_extrinsic_matrix)\n",
    "    \n",
    "    # depth to pcd\n",
    "    depth = obs[..., -1] / global_scale\n",
    "    fgpcd = depth2fgpcd(depth, depth<0.599/0.8, camera_intrinsic_params)\n",
    "    \n",
    "    pcd = o3d.geometry.PointCloud()\n",
    "    pcd.points = o3d.utility.Vector3dVector(fgpcd)\n",
    "    \n",
    "    pcd_all_list.append(pcd)\n",
    "    "
   ]
  },
  {
   "cell_type": "code",
   "execution_count": 34,
   "metadata": {},
   "outputs": [],
   "source": [
    "pcd_all = o3d.geometry.PointCloud()\n",
    "pcd_all = [pcd_all_list[0]]\n",
    "for point_id in range(1, len(pcd_all_list)):\n",
    "    trans = extrinsic_matrixs[point_id] @ np.linalg.inv(extrinsic_matrixs[0])\n",
    "    pcd_all_list[point_id].transform(trans)\n",
    "    pcd_all.append(pcd_all_list[point_id])"
   ]
  },
  {
   "cell_type": "code",
   "execution_count": 35,
   "metadata": {},
   "outputs": [],
   "source": [
    "o3d.visualization.draw_geometries(pcd_all)"
   ]
  },
  {
   "cell_type": "code",
   "execution_count": null,
   "metadata": {},
   "outputs": [],
   "source": [
    "o3d.visualization.draw_geometries([pcd_all_list[0]])"
   ]
  },
  {
   "cell_type": "code",
   "execution_count": 28,
   "metadata": {},
   "outputs": [],
   "source": [
    "source_1 = pcd_all_list[1]\n",
    "source_2 = pcd_all_list[2]\n",
    "target = pcd_all_list[0]"
   ]
  },
  {
   "cell_type": "code",
   "execution_count": 29,
   "metadata": {},
   "outputs": [
    {
     "data": {
      "text/plain": [
       "PointCloud with 71097 points."
      ]
     },
     "execution_count": 29,
     "metadata": {},
     "output_type": "execute_result"
    }
   ],
   "source": [
    "source_1.transform(extrinsic_matrixs[1] @ np.linalg.inv(extrinsic_matrixs[0]))\n",
    "source_2.transform(extrinsic_matrixs[2] @ np.linalg.inv(extrinsic_matrixs[0]))"
   ]
  },
  {
   "cell_type": "code",
   "execution_count": 32,
   "metadata": {},
   "outputs": [],
   "source": [
    "o3d.visualization.draw_geometries([source_1, source_2, target])"
   ]
  }
 ],
 "metadata": {
  "kernelspec": {
   "display_name": "dyn-res-pile-manip",
   "language": "python",
   "name": "python3"
  },
  "language_info": {
   "codemirror_mode": {
    "name": "ipython",
    "version": 3
   },
   "file_extension": ".py",
   "mimetype": "text/x-python",
   "name": "python",
   "nbconvert_exporter": "python",
   "pygments_lexer": "ipython3",
   "version": "3.9.17"
  },
  "orig_nbformat": 4
 },
 "nbformat": 4,
 "nbformat_minor": 2
}
