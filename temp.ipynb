{
 "cells": [
  {
   "cell_type": "code",
   "execution_count": 1,
   "metadata": {},
   "outputs": [],
   "source": [
    "import numpy as np\n",
    "import trimesh\n",
    "import pyflex"
   ]
  },
  {
   "cell_type": "code",
   "execution_count": 8,
   "metadata": {},
   "outputs": [],
   "source": [
    "cam_1_particle_fd = '/home/baoyu/2023/unified_dyn_graph/data/rope/camera_1/episode_0/0_particles.npy'\n",
    "cam_2_particle_fd = '/home/baoyu/2023/unified_dyn_graph/data/rope/camera_2/episode_0/0_particles.npy'"
   ]
  },
  {
   "cell_type": "code",
   "execution_count": 9,
   "metadata": {},
   "outputs": [],
   "source": [
    "# load particles\n",
    "cam_1_particles = np.load(cam_1_particle_fd)\n",
    "cam_2_particles = np.load(cam_2_particle_fd)"
   ]
  },
  {
   "cell_type": "code",
   "execution_count": 10,
   "metadata": {},
   "outputs": [
    {
     "data": {
      "text/plain": [
       "array([[ 1.3514287 ,  0.575     ,  0.05052212,  1.        ],\n",
       "       [ 1.3109375 ,  0.575     ,  0.04925269,  1.        ],\n",
       "       [ 1.2119898 ,  0.5759806 ,  0.05116613,  1.        ],\n",
       "       [ 1.1395866 ,  0.575     ,  0.04835994,  1.        ],\n",
       "       [ 1.0629978 ,  0.5763717 ,  0.05001925,  1.        ],\n",
       "       [ 0.958927  ,  0.575     ,  0.04989383,  1.        ],\n",
       "       [ 0.86249965,  0.575     ,  0.04893438,  1.        ],\n",
       "       [ 0.76300955,  0.57500494,  0.0499623 ,  1.        ],\n",
       "       [ 0.65892875,  0.57525945,  0.04993706,  1.        ],\n",
       "       [ 0.5644988 ,  0.575     ,  0.04890922,  1.        ],\n",
       "       [ 0.45892856,  0.57545465,  0.04995412,  1.        ],\n",
       "       [ 0.3644999 ,  0.575     ,  0.04892484,  1.        ],\n",
       "       [ 0.26093742,  0.5750136 ,  0.04942459,  1.        ],\n",
       "       [ 0.16093734,  0.575     ,  0.04942431,  1.        ],\n",
       "       [ 0.05892849,  0.5754586 ,  0.04994928,  1.        ],\n",
       "       [-0.03550018,  0.575     ,  0.0489248 ,  1.        ],\n",
       "       [-0.1390627 ,  0.57506096,  0.04942458,  1.        ],\n",
       "       [-0.23906274,  0.5751114 ,  0.04942045,  1.        ],\n",
       "       [-0.3390627 ,  0.575     ,  0.04942458,  1.        ],\n",
       "       [-0.4410708 ,  0.57528687,  0.04994429,  1.        ],\n",
       "       [-0.53550005,  0.575     ,  0.04892459,  1.        ],\n",
       "       [-0.6390624 ,  0.5752182 ,  0.04941637,  1.        ],\n",
       "       [-0.73906225,  0.57501984,  0.0494239 ,  1.        ],\n",
       "       [-0.8410714 ,  0.5753604 ,  0.04994716,  1.        ],\n",
       "       [-0.9355003 ,  0.575     ,  0.04892459,  1.        ],\n",
       "       [-1.0410709 ,  0.5753992 ,  0.0499437 ,  1.        ],\n",
       "       [-1.1355003 ,  0.575     ,  0.04892457,  1.        ],\n",
       "       [-1.2390641 ,  0.5751142 ,  0.04942268,  1.        ],\n",
       "       [-1.3390626 ,  0.57504594,  0.04942458,  1.        ],\n",
       "       [-1.4390625 ,  0.575     ,  0.04942441,  1.        ],\n",
       "       [-1.5265254 ,  0.57500005,  0.04881465,  1.        ]],\n",
       "      dtype=float32)"
      ]
     },
     "execution_count": 10,
     "metadata": {},
     "output_type": "execute_result"
    }
   ],
   "source": [
    "cam_1_particles"
   ]
  },
  {
   "cell_type": "code",
   "execution_count": null,
   "metadata": {},
   "outputs": [],
   "source": [
    "cam_2_particles"
   ]
  },
  {
   "cell_type": "code",
   "execution_count": 7,
   "metadata": {},
   "outputs": [
    {
     "data": {
      "text/plain": [
       "(26674, 4)"
      ]
     },
     "execution_count": 7,
     "metadata": {},
     "output_type": "execute_result"
    }
   ],
   "source": [
    "cam_1_particles.shape"
   ]
  },
  {
   "cell_type": "code",
   "execution_count": 7,
   "metadata": {},
   "outputs": [
    {
     "data": {
      "text/plain": [
       "array([[[0.57987608, 0.54827175, 0.22697347, 0.13771355]]])"
      ]
     },
     "execution_count": 7,
     "metadata": {},
     "output_type": "execute_result"
    }
   ],
   "source": [
    "np.random.rand(1, 1, 4)"
   ]
  },
  {
   "cell_type": "code",
   "execution_count": 8,
   "metadata": {},
   "outputs": [
    {
     "data": {
      "text/plain": [
       "array([[[-3.97005224,  2.03861417,  0.82938875,  2.79637198]]])"
      ]
     },
     "execution_count": 8,
     "metadata": {},
     "output_type": "execute_result"
    }
   ],
   "source": [
    "wkspc_w = 4\n",
    "action = -wkspc_w + 2 * wkspc_w * np.random.rand(1, 1, 4)\n",
    "action"
   ]
  },
  {
   "cell_type": "code",
   "execution_count": 9,
   "metadata": {},
   "outputs": [],
   "source": [
    "action_1 = np.load('/home/baoyu/2023/unified_dyn_graph/data/shirt/actions.npy')\n",
    "action_2 = np.load('/home/baoyu/2023/unified_dyn_graph/data/shirt/camera_2/actions.npy')"
   ]
  },
  {
   "cell_type": "code",
   "execution_count": 11,
   "metadata": {},
   "outputs": [
    {
     "data": {
      "text/plain": [
       "array([[-0.51280338,  0.51529479,  0.86425962,  1.94707726],\n",
       "       [ 0.03016625,  0.51443011,  0.52442104,  0.05195693],\n",
       "       [ 0.32838815,  0.54590392,  1.89548016,  2.40055496],\n",
       "       [ 0.52853233,  0.52084321,  0.4391928 ,  1.76951812],\n",
       "       [ 0.08754858,  0.51355934,  0.35972683,  2.21594589]])"
      ]
     },
     "execution_count": 11,
     "metadata": {},
     "output_type": "execute_result"
    }
   ],
   "source": [
    "action_1"
   ]
  },
  {
   "cell_type": "code",
   "execution_count": 12,
   "metadata": {},
   "outputs": [
    {
     "data": {
      "text/plain": [
       "array([[-0.51300204,  0.51535857,  0.86406096,  1.94714104],\n",
       "       [ 0.02210885,  0.51449007,  0.51636363,  0.0520169 ],\n",
       "       [ 0.39224148,  0.52836263,  1.95933348,  2.38301367],\n",
       "       [ 0.49471378,  0.505     ,  0.40537425,  1.75367491],\n",
       "       [ 0.09445389,  0.55732459,  0.36663213,  2.25971114]])"
      ]
     },
     "execution_count": 12,
     "metadata": {},
     "output_type": "execute_result"
    }
   ],
   "source": [
    "action_2"
   ]
  },
  {
   "cell_type": "code",
   "execution_count": 3,
   "metadata": {},
   "outputs": [
    {
     "data": {
      "text/plain": [
       "array([[[ 1.43178247,  1.38900696, -0.80188655,  0.38763775],\n",
       "        [ 1.567092  ,  1.85465104, -0.63998449, -0.31743812],\n",
       "        [-0.08009131, -0.42886082, -0.65799482, -0.20822864],\n",
       "        [-1.91912641,  1.33047938, -1.26497791, -0.1784449 ],\n",
       "        [ 0.55968409, -1.42658685, -0.59548166, -0.65086737]],\n",
       "\n",
       "       [[-0.10559832, -1.25467063, -0.97790705,  0.06588422],\n",
       "        [-1.9248408 ,  0.47054199, -0.27752464, -1.0192086 ],\n",
       "        [ 1.6103939 , -0.20020004, -0.57998348,  0.05812264],\n",
       "        [-0.7382866 , -0.54515692, -0.20389665, -1.31946484],\n",
       "        [-1.59182076, -1.16449298, -0.20033687,  0.26448923]],\n",
       "\n",
       "       [[-0.34252565, -0.10120999,  0.32747132,  0.44862233],\n",
       "        [-1.94571346,  0.49138438,  0.83728189, -0.38681213],\n",
       "        [ 0.03849751, -1.77714123,  0.96567367,  0.31012647],\n",
       "        [ 1.52190356,  1.67294187,  0.05128683,  0.18700359],\n",
       "        [-0.93844204,  0.09299221,  0.32350681,  0.04848649]],\n",
       "\n",
       "       [[-1.96257318,  1.36936832, -1.12974118, -0.40976386],\n",
       "        [-1.26723455,  0.34605174, -0.42039345, -0.32441132],\n",
       "        [-1.41423295,  0.27847362, -0.06555717, -0.33984935],\n",
       "        [-1.00498743,  0.30462934,  0.55824878,  0.26328229],\n",
       "        [-0.74712667,  1.86166488,  0.23772262,  0.32075352]],\n",
       "\n",
       "       [[ 1.82433454,  0.5759608 ,  0.09954847,  0.20251912],\n",
       "        [-0.11947124,  0.86429812,  0.19741444, -0.71457524],\n",
       "        [-0.2849252 , -1.45810374, -0.09120948,  0.69102784],\n",
       "        [-1.33260995,  1.11620408, -0.36621132, -0.29379046],\n",
       "        [-0.56008774,  0.91996225, -0.05672839, -0.5092225 ]],\n",
       "\n",
       "       [[-1.2000139 , -1.92591282,  0.0951184 , -1.21116882],\n",
       "        [ 1.776479  ,  0.43301146, -0.99659198,  0.81209227],\n",
       "        [-1.79851977,  0.7963923 , -0.62744506, -0.66590844],\n",
       "        [ 0.14253121,  0.35963991, -0.37191886, -0.08082804],\n",
       "        [-1.150438  , -1.1102271 , -0.47753232, -0.66965294]],\n",
       "\n",
       "       [[ 0.47063166,  0.1699951 , -0.84814752,  0.46463198],\n",
       "        [ 0.7083263 ,  0.42818024, -0.02667643, -0.56866044],\n",
       "        [ 0.65231281, -0.94671049, -0.13659016, -0.83217987],\n",
       "        [ 1.6176999 ,  0.58313839, -0.57882031, -0.55475648],\n",
       "        [-0.75255912, -0.29819385, -0.79270482, -0.87110247]],\n",
       "\n",
       "       [[-0.06636553,  1.15495771, -0.99907526,  0.00268055],\n",
       "        [-1.14675209,  0.07280286, -0.4652762 , -0.37527254],\n",
       "        [ 0.92176871,  0.58505775, -0.16203091, -0.10555614],\n",
       "        [-0.41576119,  0.26168525, -0.58795804, -0.01541318],\n",
       "        [-1.13019803,  0.99701767, -0.37573047, -0.35654778]],\n",
       "\n",
       "       [[-0.83140989, -1.03668488,  0.26650368, -0.08688096],\n",
       "        [-1.96303971,  1.33215239, -0.42786997, -0.14526223],\n",
       "        [-1.74417894, -0.05748962, -0.16608019, -0.05741168],\n",
       "        [-1.12638858, -0.17932474,  0.08918757,  0.39408796],\n",
       "        [-1.22263111,  1.09330404, -0.01803259,  0.16304538]],\n",
       "\n",
       "       [[ 1.92731756, -0.08651877, -0.64826764, -0.73204591],\n",
       "        [-0.35803145, -0.28710467, -0.95401147, -0.09564831],\n",
       "        [-1.10273188, -1.60862206, -1.25834272, -0.28594324],\n",
       "        [ 1.15549111, -0.35451034, -0.82988746,  0.04895382],\n",
       "        [-0.37103531, -1.07106343, -1.05870377, -0.40492706]],\n",
       "\n",
       "       [[-1.94420642,  0.13386273, -0.69872014,  0.17186484],\n",
       "        [-1.64158786,  0.68819123, -0.6846441 , -0.83041569],\n",
       "        [ 1.31840899, -0.48386491, -0.10290788, -0.48811166],\n",
       "        [-0.0940912 , -0.04826172, -0.37530573,  1.19265914],\n",
       "        [ 1.1167679 ,  1.7006537 , -0.16114194, -0.62960344]],\n",
       "\n",
       "       [[-0.7727596 ,  0.3101718 , -0.75785667,  0.16735009],\n",
       "        [-0.27839024,  0.04006741,  0.06230469,  0.62909432],\n",
       "        [-1.48455774, -0.42929729,  0.43891673, -0.30505967],\n",
       "        [-0.40389871,  1.61617757, -0.24444878, -0.47916932],\n",
       "        [ 0.54424422, -1.03991891, -0.52092651, -0.36800762]],\n",
       "\n",
       "       [[-1.06853812,  0.01370971, -0.68812514,  0.75882963],\n",
       "        [ 1.80749791,  0.30300465, -0.09466254, -0.38986605],\n",
       "        [-1.65999573, -1.62216834, -0.282842  , -0.19789735],\n",
       "        [-0.30387099, -0.96526373, -0.08276921, -0.72760747],\n",
       "        [-1.5209146 , -0.2244853 ,  0.13740015,  0.34828385]],\n",
       "\n",
       "       [[-1.63188966, -1.77613669,  0.25504757, -0.62255406],\n",
       "        [ 0.08948213,  0.05229945, -1.34612968,  0.44500893],\n",
       "        [ 1.92655872, -1.02139434, -1.42659697, -0.39528709],\n",
       "        [-1.3481823 ,  0.55504703, -0.89541137, -0.32068864],\n",
       "        [-0.74898682,  1.2073446 , -1.03761557, -0.21501668]],\n",
       "\n",
       "       [[-0.28866248,  1.29023781, -0.71808423,  0.28878173],\n",
       "        [-0.54735497, -0.40986603, -0.04569808, -0.43887314],\n",
       "        [ 1.25986592,  1.94196571, -0.377041  ,  0.39836882],\n",
       "        [-1.51576048, -1.03381725, -0.10275838,  0.66240343],\n",
       "        [-0.5675701 , -0.45905033,  0.03005837,  0.778961  ]],\n",
       "\n",
       "       [[-0.91025242, -0.48377242, -0.14400134,  0.31403478],\n",
       "        [ 1.18213898,  0.01573445,  0.00451171, -0.5216677 ],\n",
       "        [-1.0490327 ,  0.00955783, -0.64429815,  0.24595826],\n",
       "        [ 0.07857132, -0.60486934, -0.35338872,  0.49916788],\n",
       "        [ 0.09988177,  1.00238009, -0.53853544, -0.53974429]],\n",
       "\n",
       "       [[-1.32569438,  1.60593195, -1.26230113,  0.07723049],\n",
       "        [-0.60609604,  0.9603901 , -0.76208813, -0.16597838],\n",
       "        [ 1.57144899,  0.7084576 , -0.30382192, -0.37982336],\n",
       "        [ 0.17471222, -0.8692014 , -0.20107563,  0.43118753],\n",
       "        [-0.50928372,  0.12214886, -0.84525261, -0.05076925]],\n",
       "\n",
       "       [[-0.29796945,  1.62468736, -0.58141902,  0.09570577],\n",
       "        [-1.53718707,  0.30856098, -0.58687602, -0.0287491 ],\n",
       "        [-0.44453028, -1.09166412, -0.23140467, -0.74027193],\n",
       "        [ 1.85108128, -1.93251331, -0.10337888, -0.26047348],\n",
       "        [ 0.59439323, -1.88359994, -0.65008418,  0.15027281]],\n",
       "\n",
       "       [[ 1.54784312,  0.47530467, -0.22977084, -0.99700693],\n",
       "        [ 0.4867716 , -0.48257569, -0.5151821 ,  0.09800253],\n",
       "        [-1.01386082,  0.2511325 , -1.44026594, -0.49412044],\n",
       "        [ 0.50211188, -0.55477727, -1.17869782, -0.24640958],\n",
       "        [-1.76022281, -1.75568585, -0.77645663, -0.63268657]],\n",
       "\n",
       "       [[-1.24979226,  0.86083134, -0.2635883 , -0.34473907],\n",
       "        [ 0.65546427, -0.82742239, -0.77598748,  0.54962658],\n",
       "        [-0.08941399, -0.86400009, -0.89689747, -0.3408925 ],\n",
       "        [ 0.6280791 ,  0.60923581, -0.61070516, -0.18657875],\n",
       "        [ 1.99711198, -0.59242802, -0.56425702, -0.01978799]]])"
      ]
     },
     "execution_count": 3,
     "metadata": {},
     "output_type": "execute_result"
    }
   ],
   "source": [
    "actions = np.load('/home/baoyu/2023/unified_dyn_graph/data_sparse/shirt/actions.npy')\n",
    "actions = actions.reshape(20, 5, 4)\n",
    "actions"
   ]
  },
  {
   "cell_type": "code",
   "execution_count": 12,
   "metadata": {},
   "outputs": [],
   "source": [
    "particle_0 = np.load('/home/baoyu/2023/unified_dyn_graph/data_sparse/shirt/camera_1/episode_0/0_particles.npy')\n",
    "particle_1 = np.load('/home/baoyu/2023/unified_dyn_graph/data_sparse/shirt/camera_1/episode_0/1_particles.npy')\n",
    "particle_2 = np.load('/home/baoyu/2023/unified_dyn_graph/data_sparse/shirt/camera_1/episode_0/2_particles.npy')"
   ]
  },
  {
   "cell_type": "code",
   "execution_count": 9,
   "metadata": {},
   "outputs": [
    {
     "name": "stdout",
     "output_type": "stream",
     "text": [
      "(26674, 4)\n"
     ]
    },
    {
     "data": {
      "text/plain": [
       "array([[-1.2671502 ,  0.505     ,  0.00536735],\n",
       "       [-1.1793748 ,  0.54683876,  0.45581502],\n",
       "       [-1.2158709 ,  0.505     ,  0.00419856],\n",
       "       ...,\n",
       "       [ 0.36010194,  0.52932614, -0.20828149],\n",
       "       [ 0.34881547,  0.5284405 , -0.23249821],\n",
       "       [ 0.32512665,  0.505     , -0.22399262]], dtype=float32)"
      ]
     },
     "execution_count": 9,
     "metadata": {},
     "output_type": "execute_result"
    }
   ],
   "source": [
    "print(particle_0.shape)\n",
    "particle_0[:, :3]"
   ]
  },
  {
   "cell_type": "code",
   "execution_count": 10,
   "metadata": {},
   "outputs": [
    {
     "name": "stdout",
     "output_type": "stream",
     "text": [
      "(26674, 4)\n"
     ]
    },
    {
     "data": {
      "text/plain": [
       "array([[-1.2671502 ,  0.505     ,  0.00536735],\n",
       "       [-1.1793748 ,  0.54683876,  0.45581502],\n",
       "       [-1.2158709 ,  0.505     ,  0.00419856],\n",
       "       ...,\n",
       "       [-0.17799059,  0.54928404, -0.28403887],\n",
       "       [-0.20421197,  0.544764  , -0.28151518],\n",
       "       [-0.20094289,  0.51115924, -0.2852092 ]], dtype=float32)"
      ]
     },
     "execution_count": 10,
     "metadata": {},
     "output_type": "execute_result"
    }
   ],
   "source": [
    "print(particle_1.shape)\n",
    "particle_1[:, :3]"
   ]
  },
  {
   "cell_type": "code",
   "execution_count": 13,
   "metadata": {},
   "outputs": [
    {
     "name": "stdout",
     "output_type": "stream",
     "text": [
      "(26674, 4)\n"
     ]
    },
    {
     "data": {
      "text/plain": [
       "array([[-1.2673775 ,  0.505     ,  0.00510537],\n",
       "       [-1.1874183 ,  0.5472362 ,  0.4544387 ],\n",
       "       [-1.2160347 ,  0.505     ,  0.004006  ],\n",
       "       ...,\n",
       "       [-0.57403916,  0.53057766,  0.28411803],\n",
       "       [-0.57425815,  0.5514829 ,  0.26752973],\n",
       "       [-0.5913297 ,  0.5282298 ,  0.2495781 ]], dtype=float32)"
      ]
     },
     "execution_count": 13,
     "metadata": {},
     "output_type": "execute_result"
    }
   ],
   "source": [
    "print(particle_2.shape)\n",
    "particle_2[:, :3]"
   ]
  },
  {
   "cell_type": "code",
   "execution_count": 8,
   "metadata": {},
   "outputs": [],
   "source": [
    "import numpy as np"
   ]
  },
  {
   "cell_type": "code",
   "execution_count": 11,
   "metadata": {},
   "outputs": [
    {
     "data": {
      "text/plain": [
       "array([[1.41421356, 2.        , 2.82842712]])"
      ]
     },
     "execution_count": 11,
     "metadata": {},
     "output_type": "execute_result"
    }
   ],
   "source": [
    "from scipy.spatial.distance import cdist\n",
    "\n",
    "x = np.array([[2,1]])\n",
    "y = np.array([[1,0], [2,3], [4,3]])\n",
    "\n",
    "d = cdist(x,y)\n",
    "d"
   ]
  },
  {
   "cell_type": "code",
   "execution_count": 12,
   "metadata": {},
   "outputs": [
    {
     "data": {
      "text/plain": [
       "1.4142135623730951"
      ]
     },
     "execution_count": 12,
     "metadata": {},
     "output_type": "execute_result"
    }
   ],
   "source": [
    "np.min(d)"
   ]
  },
  {
   "cell_type": "code",
   "execution_count": 23,
   "metadata": {},
   "outputs": [],
   "source": [
    "particle_0 = np.load('/home/baoyu/2023/unified_dyn_graph/data_dense/mustard_bottle/camera_1/episode_0/0_particles.npy')\n",
    "particle_1 = np.load('/home/baoyu/2023/unified_dyn_graph/data_dense/mustard_bottle/camera_1/episode_0/1_particles.npy')\n",
    "action_0 = np.load('/home/baoyu/2023/unified_dyn_graph/data_dense/mustard_bottle/actions.npy')"
   ]
  },
  {
   "cell_type": "code",
   "execution_count": 24,
   "metadata": {},
   "outputs": [
    {
     "data": {
      "text/plain": [
       "array([[-0.21478087,  0.7313807 ],\n",
       "       [-0.24413192,  0.03074625],\n",
       "       [-0.24465683,  0.08074313],\n",
       "       ...,\n",
       "       [ 0.02107791,  0.7326958 ],\n",
       "       [-0.00907233,  0.08221829],\n",
       "       [-0.01589599,  0.73217785]], dtype=float32)"
      ]
     },
     "execution_count": 24,
     "metadata": {},
     "output_type": "execute_result"
    }
   ],
   "source": [
    "particle_0[:, [0, 2]]"
   ]
  },
  {
   "cell_type": "code",
   "execution_count": 25,
   "metadata": {},
   "outputs": [
    {
     "data": {
      "text/plain": [
       "array([[-1.77314809, -0.90937482, -0.1735031 ,  0.03147495],\n",
       "       [-1.57636957, -0.10559832,  0.00413111, -0.01940584]])"
      ]
     },
     "execution_count": 25,
     "metadata": {},
     "output_type": "execute_result"
    }
   ],
   "source": [
    "action_0 = action_0.reshape(2, 4)\n",
    "action_0"
   ]
  },
  {
   "cell_type": "code",
   "execution_count": 26,
   "metadata": {},
   "outputs": [
    {
     "data": {
      "text/plain": [
       "array([-0.1735031 ,  0.03147495])"
      ]
     },
     "execution_count": 26,
     "metadata": {},
     "output_type": "execute_result"
    }
   ],
   "source": [
    "action_0[0, 2:]"
   ]
  },
  {
   "cell_type": "code",
   "execution_count": 37,
   "metadata": {},
   "outputs": [
    {
     "data": {
      "text/plain": [
       "(array([70, 70]), array([0, 1]))"
      ]
     },
     "execution_count": 37,
     "metadata": {},
     "output_type": "execute_result"
    }
   ],
   "source": [
    "np.where(particle_0[:, [0, 2]] == action_0[0, 2:])"
   ]
  },
  {
   "cell_type": "code",
   "execution_count": 39,
   "metadata": {},
   "outputs": [
    {
     "data": {
      "text/plain": [
       "array([0.06189577, 0.68352413], dtype=float32)"
      ]
     },
     "execution_count": 39,
     "metadata": {},
     "output_type": "execute_result"
    }
   ],
   "source": [
    "particle_0[:, [0, 2]][763]"
   ]
  },
  {
   "cell_type": "code",
   "execution_count": 30,
   "metadata": {},
   "outputs": [
    {
     "data": {
      "text/plain": [
       "array([-0.1735031 ,  0.5759315 ,  0.03147495,  0.1       ], dtype=float32)"
      ]
     },
     "execution_count": 30,
     "metadata": {},
     "output_type": "execute_result"
    }
   ],
   "source": [
    "particle_0[70]"
   ]
  },
  {
   "cell_type": "code",
   "execution_count": 42,
   "metadata": {},
   "outputs": [
    {
     "data": {
      "text/plain": [
       "array([1, 0, 1])"
      ]
     },
     "execution_count": 42,
     "metadata": {},
     "output_type": "execute_result"
    }
   ],
   "source": [
    "x = np.array([1,2,3])\n",
    "(x-2)**2"
   ]
  },
  {
   "cell_type": "code",
   "execution_count": 12,
   "metadata": {},
   "outputs": [
    {
     "data": {
      "text/plain": [
       "0.06954400388719517"
      ]
     },
     "execution_count": 12,
     "metadata": {},
     "output_type": "execute_result"
    }
   ],
   "source": [
    "import numpy as np\n",
    "np.random.uniform(0, 0.1)"
   ]
  },
  {
   "cell_type": "code",
   "execution_count": 14,
   "metadata": {},
   "outputs": [
    {
     "data": {
      "text/plain": [
       "[0.0002555687414881901,\n",
       " 0.00044696068491777646,\n",
       " 0.00022721679957728597,\n",
       " 0.00015852201110893395,\n",
       " 0.0003761975867548927,\n",
       " 5.109778512080915e-05,\n",
       " 0.00027807427246633666,\n",
       " 2.6929263554249462e-05,\n",
       " 0.0003932375037429013,\n",
       " 0.00011736252761205712,\n",
       " 0.0002319212646853707,\n",
       " 0.00048355548368891687,\n",
       " 0.0003351328334429828,\n",
       " 0.0003345698495233726,\n",
       " 0.0001759785757983472,\n",
       " 0.0004298791045686227,\n",
       " 0.0002349984447150344,\n",
       " 0.00015251696211214855,\n",
       " 0.00025119332319031216,\n",
       " 4.044575966551861e-05]"
      ]
     },
     "execution_count": 14,
     "metadata": {},
     "output_type": "execute_result"
    }
   ],
   "source": [
    "import random\n",
    "sample_size = 20\n",
    "samples = [random.uniform(0, 5e-4) for _ in range(sample_size)]\n",
    "samples"
   ]
  },
  {
   "cell_type": "code",
   "execution_count": 15,
   "metadata": {},
   "outputs": [
    {
     "name": "stdout",
     "output_type": "stream",
     "text": [
      "[2.4809250491531806e-05, 4.9592931477771274e-05, 6.544032635731598e-05, 9.20400793418651e-05, 0.00011038035107573681, 0.00013847536945736918, 0.00015993798394055113, 0.00019258813686619025, 0.00022356090293050427, 0.00023223299561380342, 0.00027164759366725416, 0.00029593402340225326, 0.00032206652895276514, 0.00034095810195213037, 0.00036382850835650935, 0.0003869933984044857, 0.00040304704278318814, 0.0004420328846102706, 0.0004529392679633176, 0.00047700787791787847]\n"
     ]
    }
   ],
   "source": [
    "import random\n",
    "import numpy as np\n",
    "\n",
    "low, high = 0, 5e-4\n",
    "sample_size = 20\n",
    "num_strata = sample_size\n",
    "\n",
    "strata_bounds = np.linspace(low, high, num_strata + 1)\n",
    "samples = [np.random.uniform(strata_bounds[i], strata_bounds[i + 1]) for i in range(num_strata)]\n",
    "print(samples)\n",
    "# print(samples)"
   ]
  },
  {
   "cell_type": "code",
   "execution_count": 16,
   "metadata": {},
   "outputs": [],
   "source": [
    "particle_8 = np.load('/home/baoyu/2023/unified_dyn_graph/data_dense/rope/camera_1/episode_0/1_particles.npy')\n",
    "particle_4 = np.load('/home/baoyu/2023/unified_dyn_graph/data_dense/rope/camera_1/episode_2/1_particles.npy')"
   ]
  },
  {
   "cell_type": "code",
   "execution_count": 17,
   "metadata": {},
   "outputs": [
    {
     "data": {
      "text/plain": [
       "array([[ 1.4799491 ,  0.5834041 , -0.01094077,  1.        ],\n",
       "       [ 1.4682177 ,  0.6212797 , -0.02865712,  1.        ],\n",
       "       [ 1.4738672 ,  0.5974741 , -0.0189722 ,  1.        ],\n",
       "       ...,\n",
       "       [-0.8618243 ,  0.6253798 ,  1.0445763 ,  1.        ],\n",
       "       [-0.85847306,  0.60615885,  1.0305048 ,  1.        ],\n",
       "       [-0.8547507 ,  0.606319  ,  1.0090845 ,  1.        ]],\n",
       "      dtype=float32)"
      ]
     },
     "execution_count": 17,
     "metadata": {},
     "output_type": "execute_result"
    }
   ],
   "source": [
    "particle_8"
   ]
  },
  {
   "cell_type": "code",
   "execution_count": 19,
   "metadata": {},
   "outputs": [
    {
     "data": {
      "text/plain": [
       "array([[ True,  True,  True,  True],\n",
       "       [ True,  True,  True,  True],\n",
       "       [ True,  True,  True,  True],\n",
       "       ...,\n",
       "       [ True,  True,  True,  True],\n",
       "       [ True,  True,  True,  True],\n",
       "       [ True,  True,  True,  True]])"
      ]
     },
     "execution_count": 19,
     "metadata": {},
     "output_type": "execute_result"
    }
   ],
   "source": [
    "particle_4 == particle_8"
   ]
  }
 ],
 "metadata": {
  "kernelspec": {
   "display_name": "dyn-res-pile-manip",
   "language": "python",
   "name": "python3"
  },
  "language_info": {
   "codemirror_mode": {
    "name": "ipython",
    "version": 3
   },
   "file_extension": ".py",
   "mimetype": "text/x-python",
   "name": "python",
   "nbconvert_exporter": "python",
   "pygments_lexer": "ipython3",
   "version": "3.9.18"
  },
  "orig_nbformat": 4
 },
 "nbformat": 4,
 "nbformat_minor": 2
}
