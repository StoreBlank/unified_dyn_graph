{
 "cells": [
  {
   "cell_type": "code",
   "execution_count": 1,
   "metadata": {},
   "outputs": [],
   "source": [
    "import numpy as np\n",
    "import trimesh\n",
    "import pyflex"
   ]
  },
  {
   "cell_type": "code",
   "execution_count": 2,
   "metadata": {},
   "outputs": [],
   "source": [
    "cam_1_particle_fd = '/home/baoyu/2023/unified_dyn_graph/data/shirt/camera_1/episode_0/0_particles.npy'\n",
    "cam_2_particle_fd = '/home/baoyu/2023/unified_dyn_graph/data/shirt/camera_2/episode_0/0_particles.npy'"
   ]
  },
  {
   "cell_type": "code",
   "execution_count": 3,
   "metadata": {},
   "outputs": [],
   "source": [
    "# load particles\n",
    "cam_1_particles = np.load(cam_1_particle_fd)\n",
    "cam_2_particles = np.load(cam_2_particle_fd)"
   ]
  },
  {
   "cell_type": "code",
   "execution_count": 5,
   "metadata": {},
   "outputs": [
    {
     "data": {
      "text/plain": [
       "array([-1.2666063e+00,  5.0500000e-01,  5.7655107e-03, ...,\n",
       "        5.0500000e-01, -2.3049787e-01,  2.6673998e+04], dtype=float32)"
      ]
     },
     "execution_count": 5,
     "metadata": {},
     "output_type": "execute_result"
    }
   ],
   "source": [
    "cam_1_particles"
   ]
  },
  {
   "cell_type": "code",
   "execution_count": 6,
   "metadata": {},
   "outputs": [
    {
     "data": {
      "text/plain": [
       "array([-1.2666380e+00,  5.0500453e-01,  6.0242866e-03, ...,\n",
       "        5.0500000e-01, -2.3061238e-01,  2.6673998e+04], dtype=float32)"
      ]
     },
     "execution_count": 6,
     "metadata": {},
     "output_type": "execute_result"
    }
   ],
   "source": [
    "cam_2_particles"
   ]
  },
  {
   "cell_type": "code",
   "execution_count": 7,
   "metadata": {},
   "outputs": [
    {
     "data": {
      "text/plain": [
       "array([[[0.57987608, 0.54827175, 0.22697347, 0.13771355]]])"
      ]
     },
     "execution_count": 7,
     "metadata": {},
     "output_type": "execute_result"
    }
   ],
   "source": [
    "np.random.rand(1, 1, 4)"
   ]
  },
  {
   "cell_type": "code",
   "execution_count": 8,
   "metadata": {},
   "outputs": [
    {
     "data": {
      "text/plain": [
       "array([[[-3.97005224,  2.03861417,  0.82938875,  2.79637198]]])"
      ]
     },
     "execution_count": 8,
     "metadata": {},
     "output_type": "execute_result"
    }
   ],
   "source": [
    "wkspc_w = 4\n",
    "action = -wkspc_w + 2 * wkspc_w * np.random.rand(1, 1, 4)\n",
    "action"
   ]
  },
  {
   "cell_type": "code",
   "execution_count": 9,
   "metadata": {},
   "outputs": [],
   "source": [
    "action_1 = np.load('/home/baoyu/2023/unified_dyn_graph/data/shirt/actions.npy')\n",
    "action_2 = np.load('/home/baoyu/2023/unified_dyn_graph/data/shirt/camera_2/actions.npy')"
   ]
  },
  {
   "cell_type": "code",
   "execution_count": 11,
   "metadata": {},
   "outputs": [
    {
     "data": {
      "text/plain": [
       "array([[-0.51280338,  0.51529479,  0.86425962,  1.94707726],\n",
       "       [ 0.03016625,  0.51443011,  0.52442104,  0.05195693],\n",
       "       [ 0.32838815,  0.54590392,  1.89548016,  2.40055496],\n",
       "       [ 0.52853233,  0.52084321,  0.4391928 ,  1.76951812],\n",
       "       [ 0.08754858,  0.51355934,  0.35972683,  2.21594589]])"
      ]
     },
     "execution_count": 11,
     "metadata": {},
     "output_type": "execute_result"
    }
   ],
   "source": [
    "action_1"
   ]
  },
  {
   "cell_type": "code",
   "execution_count": 12,
   "metadata": {},
   "outputs": [
    {
     "data": {
      "text/plain": [
       "array([[-0.51300204,  0.51535857,  0.86406096,  1.94714104],\n",
       "       [ 0.02210885,  0.51449007,  0.51636363,  0.0520169 ],\n",
       "       [ 0.39224148,  0.52836263,  1.95933348,  2.38301367],\n",
       "       [ 0.49471378,  0.505     ,  0.40537425,  1.75367491],\n",
       "       [ 0.09445389,  0.55732459,  0.36663213,  2.25971114]])"
      ]
     },
     "execution_count": 12,
     "metadata": {},
     "output_type": "execute_result"
    }
   ],
   "source": [
    "action_2"
   ]
  }
 ],
 "metadata": {
  "kernelspec": {
   "display_name": "dyn-res-pile-manip",
   "language": "python",
   "name": "python3"
  },
  "language_info": {
   "codemirror_mode": {
    "name": "ipython",
    "version": 3
   },
   "file_extension": ".py",
   "mimetype": "text/x-python",
   "name": "python",
   "nbconvert_exporter": "python",
   "pygments_lexer": "ipython3",
   "version": "3.9.17"
  },
  "orig_nbformat": 4
 },
 "nbformat": 4,
 "nbformat_minor": 2
}
